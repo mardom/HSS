{
 "cells": [
  {
   "cell_type": "markdown",
   "id": "21ecd541-1b1b-4b67-a118-43122af38e9e",
   "metadata": {},
   "source": [
    "# Notebook for reproduce the identification of streams in M31 using Pandas:\n",
    "data @ /home/mardom/Astrophysical-Research/Andromeda-Gaia-DR2/data/pandas \\\\\n",
    "code @ /home/mardom/Astrophysical-Research/Andromeda-Gaia-DR2/code/HSS    \\\\\n",
    "following https://iopscience.iop.org/article/10.3847/1538-4357/aae8e7/pdf \\\\\n",
    "and https://iohttps://iopscience.iop.org/article/10.3847/1538-4357/ac4496/pdf \\\\\n",
    "in order to create a library of streams in M31 like those in the MW  and therefore \n",
    "contribute to https://github.com/mardom/galstreams.git upstream \\\\\n",
    "need: cross correlation with Gaia data by Keiko and  \\\\\n",
    "todo: \\\\\n",
    "by Mariano Javier de Leon, Dominguez Romero @ IATE-OAC-UNC 2022, mariano.dominguez@unc.edu.ar \\\\"
   ]
  },
  {
   "cell_type": "code",
   "execution_count": null,
   "id": "a80313c8-8576-423c-8869-08fd30039a86",
   "metadata": {},
   "outputs": [],
   "source": []
  }
 ],
 "metadata": {
  "kernelspec": {
   "display_name": "Python 3 (ipykernel)",
   "language": "python",
   "name": "python3"
  },
  "language_info": {
   "codemirror_mode": {
    "name": "ipython",
    "version": 3
   },
   "file_extension": ".py",
   "mimetype": "text/x-python",
   "name": "python",
   "nbconvert_exporter": "python",
   "pygments_lexer": "ipython3",
   "version": "3.8.13"
  }
 },
 "nbformat": 4,
 "nbformat_minor": 5
}
