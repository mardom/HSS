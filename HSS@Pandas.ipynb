{
 "cells": [
  {
   "cell_type": "markdown",
   "id": "21ecd541-1b1b-4b67-a118-43122af38e9e",
   "metadata": {},
   "source": [
    "# Notebook for reproduce the identification of streams in M31 using Pandas:\n",
    "data @ /home/mardom/Astrophysical-Research/Andromeda-Gaia-DR2/data/pandas \\\\\n",
    "code @ /home/mardom/Astrophysical-Research/Andromeda-Gaia-DR2/code/HSS    \\\\\n",
    "following https://iopscience.iop.org/article/10.3847/1538-4357/aae8e7/pdf \\\\\n",
    "and https://iohttps://iopscience.iop.org/article/10.3847/1538-4357/ac4496/pdf \\\\\n",
    "in order to create a library of streams in M31 like those in the MW  and therefore \n",
    "contribute to https://github.com/mardom/galstreams.git upstream \\\\\n",
    "need: cross correlation with Gaia data by Keiko and  \\\\\n",
    "todo: \\\\\n",
    "by Mariano Javier de Leon, Dominguez Romero @ IATE-OAC-UNC 2022, mariano.dominguez@unc.edu.ar \\\\"
   ]
  },
  {
   "cell_type": "code",
   "execution_count": 1,
   "id": "a80313c8-8576-423c-8869-08fd30039a86",
   "metadata": {},
   "outputs": [],
   "source": [
    "import regions\n",
    "import HSS \n",
    "\n",
    "import numpy as np\n",
    "import matplotlib.pyplot as plt"
   ]
  },
  {
   "cell_type": "code",
   "execution_count": 5,
   "id": "aed9dd5f-ca6b-4de8-9946-b44df2291ca4",
   "metadata": {},
   "outputs": [],
   "source": [
    "filepath=\"/media/mardom/_store/mardom/Astrophysical-Research/Andromeda-Gaia-DR2/data/pandas/CATALOGS/\""
   ]
  },
  {
   "cell_type": "code",
   "execution_count": 6,
   "id": "6b2d0acf-6e01-47f6-ab4b-90f4bb252392",
   "metadata": {},
   "outputs": [],
   "source": [
    "filename=\"m001p.ascd.gz\""
   ]
  },
  {
   "cell_type": "code",
   "execution_count": 7,
   "id": "16a6f32c-b634-44a7-9799-6dcf0a091db3",
   "metadata": {},
   "outputs": [],
   "source": [
    "datasource=filepath+filename"
   ]
  },
  {
   "cell_type": "code",
   "execution_count": 8,
   "id": "99ed5135-1783-4f6c-8aac-3fd3d210cb38",
   "metadata": {},
   "outputs": [
    {
     "name": "stdout",
     "output_type": "stream",
     "text": [
      "     RA         Dec      iccd    xg      yg     g      dg   ig    xi      yi     i      di   ii  ia field\n",
      "----------- ------------ ---- ------- ------- ------ ----- --- ------- ------- ------ ----- --- --- -----\n",
      "1:40:16.989 +28:00:57.76    1  1336.4 2444.44  13.98 0.001  -9  1331.4 2446.13 13.617 0.001  -9   0     1\n",
      "1:40:16.292 +27:59:37.16    1  1284.4 2881.92 13.987 0.001  -9 1279.02 2883.41 13.543 0.001  -9   0     1\n",
      "1:40:22.707 +28:06:54.38    1  1759.3  499.18 14.142 0.001  -9 1755.99  501.99 13.751 0.001  -9   0     1\n",
      "1:40:18.118 +28:01:38.52    1 1418.71 2222.32 14.157 0.001  -9  1413.9 2224.12 13.668 0.001  -9   0     1\n",
      "1:40:18.067 +28:03:32.81    1 1418.15 1601.52 14.513 0.001  -9  1413.9 1603.56 13.821 0.001  -9   0     1\n",
      "1:40:07.711 +28:04:29.12    1  674.08 1304.54  14.59 0.001  -9  670.26 1305.61 14.099 0.001  -9   0     1\n",
      "1:40:04.072 +27:57:00.08    1  402.73 3740.64 14.683 0.001  -9  396.73 3740.72 14.016 0.001  -9   0     1\n",
      "1:40:22.857 +28:06:50.88    1  1770.0  518.17 14.667 0.001  -9 1766.68  520.94 14.101 0.001  -9   0     1\n",
      "1:39:59.622 +27:59:57.47    1   86.42 2784.42 14.886 0.001  -9   81.35  2784.4 14.497 0.001  -9   0     1\n",
      "1:40:15.294 +28:02:00.05    1 1215.82 2107.88 14.956 0.001  -9 1211.15 2109.45 14.481 0.001  -9   0     1\n",
      "1:40:11.032 +27:54:17.84    1  900.71 4611.95 15.038 0.001  -9  893.82 4612.46 14.615 0.001  -9   0     1\n",
      "        ...          ...  ...     ...     ...    ...   ... ...     ...     ...    ...   ... ... ...   ...\n",
      "1:36:12.418 +27:08:34.84   36 1439.63    18.7 35.332 8.078   0 1424.98  100.55 27.131 1.215   0   0     1\n",
      "1:36:11.786 +27:08:36.88   36 1485.53   29.62 35.332 8.078   0 1470.86  111.53 34.666 8.322   0   0     1\n",
      "1:36:08.756 +27:08:42.38   36 1705.91    58.0 35.331 8.078   0 1691.14  140.22 24.424 0.172   0   0     1\n",
      "1:36:08.570 +27:08:42.34   36 1719.44   57.73 35.331 8.078   0 1704.67  139.97 34.668 8.322   0   0     1\n",
      "1:36:08.252 +27:08:40.59   36 1742.81   48.04  35.33 8.078   0 1728.04  130.31 26.297 0.729   0   0     1\n",
      "1:36:07.893 +27:08:41.69   36 1768.92    53.8  35.33 8.078   0 1754.14  136.11 34.668 8.322   0   0     1\n",
      "1:36:03.142 +27:09:35.39   36 2110.92  344.94 35.333 8.078   0 2095.78  427.69 24.637 0.205   0   0     1\n",
      "1:36:06.879 +27:08:40.89   36  1842.9   48.88  35.33 8.078   0  1828.1   131.3 25.181  0.32  -1   0     1\n",
      "1:36:06.216 +27:08:40.80   36 1891.25   47.99  35.33 8.078   0 1876.43  130.48 27.013 1.136   0   0     1\n",
      "1:36:04.285 +27:08:39.52   36 2032.33    39.9  35.33 8.078   0 2017.47   122.6  34.67 8.322   0   0     1\n",
      "1:36:04.309 +27:08:35.52   36 2030.91   18.08  35.33 8.078   0 2016.07  100.78 27.231 1.281   0   0     1\n",
      "1:36:03.188 +27:08:44.79   36 2111.92   68.18  35.33 8.078   0 2097.02  150.99 34.672 8.322   0   0     1\n",
      "Length = 115667 rows\n"
     ]
    }
   ],
   "source": [
    "# read pandas fits data at  /home/mardom/Astrophysical-Research/Andromeda-Gaia-DR2/data/pandas\n",
    "from astropy.io import ascii\n",
    "data = ascii.read(datasource)  \n",
    "print(data)                "
   ]
  },
  {
   "cell_type": "code",
   "execution_count": 9,
   "id": "47e25b4a-ee8d-467b-ad94-8908bdd7667b",
   "metadata": {},
   "outputs": [
    {
     "data": {
      "text/plain": [
       "['RA',\n",
       " 'Dec',\n",
       " 'iccd',\n",
       " 'xg',\n",
       " 'yg',\n",
       " 'g',\n",
       " 'dg',\n",
       " 'ig',\n",
       " 'xi',\n",
       " 'yi',\n",
       " 'i',\n",
       " 'di',\n",
       " 'ii',\n",
       " 'ia',\n",
       " 'field']"
      ]
     },
     "execution_count": 9,
     "metadata": {},
     "output_type": "execute_result"
    }
   ],
   "source": [
    "data.colnames"
   ]
  },
  {
   "cell_type": "code",
   "execution_count": null,
   "id": "f4198cd4-54f4-4d48-ae64-1e2dfc12eac9",
   "metadata": {},
   "outputs": [],
   "source": []
  },
  {
   "cell_type": "code",
   "execution_count": null,
   "id": "4bd7e74f-f57b-4351-a97b-68d4d23c3025",
   "metadata": {},
   "outputs": [],
   "source": [
    "import glob\n",
    "import pandas as pd\n",
    "filepath = \"/home/mardom/Astrophysical-Research/Andromeda-Gaia-DR2/data/pandas/CATALOGS/\"\n",
    "\n",
    "dfs = [ascii.read(x) for x in glob.glob(filepath + '*')]"
   ]
  },
  {
   "cell_type": "code",
   "execution_count": null,
   "id": "0949dd6e-0150-4c6d-9b50-0edb78f336e9",
   "metadata": {},
   "outputs": [],
   "source": [
    "from astropy.table import vstack\n",
    "for i in dfs:\n",
    "    final = vstack([final, i])\n",
    "    print(i.info, final.info) \n",
    "#final_df=final.to_pandas\n",
    "##final_df = pd.concat(dfs, axis=1, ignore_index=True)"
   ]
  },
  {
   "cell_type": "code",
   "execution_count": null,
   "id": "d440727c-271c-4eb9-9975-0a15a240ea56",
   "metadata": {},
   "outputs": [],
   "source": [
    "final"
   ]
  },
  {
   "cell_type": "code",
   "execution_count": null,
   "id": "9becc542-2f0f-4083-8b87-2e9846728ded",
   "metadata": {},
   "outputs": [],
   "source": [
    "from astropy.coordinates import Angle\n",
    "from astropy import units as u\n",
    "RAV = Angle(final[\"RA\"], u.hour)\n",
    "RAV = RAV.wrap_at(12*u.hour)\n",
    "DEV = Angle(final[\"Dec\"], u.deg)"
   ]
  },
  {
   "cell_type": "code",
   "execution_count": null,
   "id": "f803dbd4-91a1-4527-bbf1-fcdb6f9305c5",
   "metadata": {},
   "outputs": [],
   "source": [
    "plt.scatter(RAV.degree, DEV.degree , c =\"blue\")\n",
    "# To show the plot\n",
    "plt.show()"
   ]
  },
  {
   "cell_type": "code",
   "execution_count": null,
   "id": "b7568c93-1592-4399-8a0c-83e9625ff04d",
   "metadata": {},
   "outputs": [],
   "source": [
    "#print(final[\"RA\"])"
   ]
  },
  {
   "cell_type": "code",
   "execution_count": null,
   "id": "36083192-4f5c-4dc5-9e01-a41b0e2c36c7",
   "metadata": {},
   "outputs": [],
   "source": [
    "!ls /media/mardom/_store/mardom/Astrophysical-Research/Andromeda-Gaia-DR2/data/pandas/CATALOGS"
   ]
  },
  {
   "cell_type": "code",
   "execution_count": null,
   "id": "1b4bf0ec-6c15-499e-8844-76686f2324c3",
   "metadata": {},
   "outputs": [],
   "source": [
    "import matplotlib.pyplot as plt\n",
    "%matplotlib inline\n",
    "#image = plt.imread(image_data)\n",
    "plt.imshow(image_data, cmap='gray')\n",
    "plt.colorbar()"
   ]
  },
  {
   "cell_type": "code",
   "execution_count": null,
   "id": "5a05c35b-62af-4dd2-86ca-f883272bccb5",
   "metadata": {},
   "outputs": [],
   "source": [
    "print('Min:', np.min(image_data))\n",
    "print('Max:', np.max(image_data))\n",
    "print('Mean:', np.mean(image_data))\n",
    "print('Stdev:', np.std(image_data))"
   ]
  },
  {
   "cell_type": "code",
   "execution_count": null,
   "id": "f7a3e1c3-e307-4b97-a37e-2e8c6d1c5f6a",
   "metadata": {},
   "outputs": [],
   "source": [
    "!more /media/mardom/_store/mardom/Astrophysical-Research/Andromeda-Gaia-DR2/data/pandas/files.txt"
   ]
  },
  {
   "cell_type": "code",
   "execution_count": null,
   "id": "17b25438-3a0f-4f10-8a05-f3663b9dce33",
   "metadata": {},
   "outputs": [],
   "source": [
    "print(type(image_data.flatten()))\n",
    "print(image_data.flatten().shape)"
   ]
  },
  {
   "cell_type": "code",
   "execution_count": null,
   "id": "cd15b47b-af33-4aec-99e2-7a25540b7091",
   "metadata": {},
   "outputs": [],
   "source": [
    "histogram = plt.hist(image_data.flatten(), bins='auto')"
   ]
  },
  {
   "cell_type": "code",
   "execution_count": null,
   "id": "e7b0b920-962b-4b1e-bd23-5a6d74a055b1",
   "metadata": {},
   "outputs": [],
   "source": [
    "from matplotlib.colors import LogNorm"
   ]
  },
  {
   "cell_type": "code",
   "execution_count": null,
   "id": "9bddf913-756e-4d3e-9337-bb9fa86a202f",
   "metadata": {},
   "outputs": [],
   "source": [
    "plt.imshow(image_data, cmap='gray', norm=LogNorm())\n",
    "\n",
    "# I chose the tick marks based on the histogram above\n",
    "cbar = plt.colorbar(ticks=[5.e3,1.e4,2.e4])\n",
    "cbar.ax.set_yticklabels(['5,000','10,000','20,000'])\n",
    "\n"
   ]
  },
  {
   "cell_type": "code",
   "execution_count": null,
   "id": "e1ff84b4-98a5-4524-912b-80d5bb81ac44",
   "metadata": {},
   "outputs": [],
   "source": []
  }
 ],
 "metadata": {
  "kernelspec": {
   "display_name": "Python 3 (ipykernel)",
   "language": "python",
   "name": "python3"
  },
  "language_info": {
   "codemirror_mode": {
    "name": "ipython",
    "version": 3
   },
   "file_extension": ".py",
   "mimetype": "text/x-python",
   "name": "python",
   "nbconvert_exporter": "python",
   "pygments_lexer": "ipython3",
   "version": "3.9.12"
  }
 },
 "nbformat": 4,
 "nbformat_minor": 5
}
